{
 "cells": [
  {
   "cell_type": "code",
   "execution_count": null,
   "id": "a872baed-d100-429e-906a-07c6a08c08e6",
   "metadata": {},
   "outputs": [
    {
     "name": "stdout",
     "output_type": "stream",
     "text": [
      "\n",
      "Task Manager\n",
      "1. Add Task\n",
      "2. View Tasks\n",
      "3. Mark Task as Completed\n",
      "4. Delete Task\n",
      "5. Exit\n"
     ]
    },
    {
     "name": "stdin",
     "output_type": "stream",
     "text": [
      "\n",
      "Enter your choice:  1\n",
      "Enter task title:  WRITE A PRCTICAL OF  DSA\n",
      "Enter task description:  SEARCH THE PRCTICAL TOPIC ON W3 SCHOOL READ THE TOPIC AND WRITE  THE TOPIC ON A  PRACTICAL PAGES\n",
      "Enter due date (YYYY-MM-DD):  27 -9-2024\n"
     ]
    },
    {
     "name": "stdout",
     "output_type": "stream",
     "text": [
      "Task added successfully!\n",
      "\n",
      "Task Manager\n",
      "1. Add Task\n",
      "2. View Tasks\n",
      "3. Mark Task as Completed\n",
      "4. Delete Task\n",
      "5. Exit\n"
     ]
    },
    {
     "name": "stdin",
     "output_type": "stream",
     "text": [
      "\n",
      "Enter your choice:  2\n"
     ]
    },
    {
     "name": "stdout",
     "output_type": "stream",
     "text": [
      "\n",
      "Tasks:\n",
      "1. WRITE A PRCTICAL OF  DSA (Pending)\n",
      "   Description: SEARCH THE PRCTICAL TOPIC ON W3 SCHOOL READ THE TOPIC AND WRITE  THE TOPIC ON A  PRACTICAL PAGES\n",
      "   Due Date: 27 -9-2024\n",
      "   Created At: 2024-12-27 17:07:34\n",
      "\n",
      "\n",
      "Task Manager\n",
      "1. Add Task\n",
      "2. View Tasks\n",
      "3. Mark Task as Completed\n",
      "4. Delete Task\n",
      "5. Exit\n"
     ]
    },
    {
     "name": "stdin",
     "output_type": "stream",
     "text": [
      "\n",
      "Enter your choice:  2\n"
     ]
    },
    {
     "name": "stdout",
     "output_type": "stream",
     "text": [
      "\n",
      "Tasks:\n",
      "1. WRITE A PRCTICAL OF  DSA (Pending)\n",
      "   Description: SEARCH THE PRCTICAL TOPIC ON W3 SCHOOL READ THE TOPIC AND WRITE  THE TOPIC ON A  PRACTICAL PAGES\n",
      "   Due Date: 27 -9-2024\n",
      "   Created At: 2024-12-27 17:07:34\n",
      "\n",
      "\n",
      "Task Manager\n",
      "1. Add Task\n",
      "2. View Tasks\n",
      "3. Mark Task as Completed\n",
      "4. Delete Task\n",
      "5. Exit\n"
     ]
    }
   ],
   "source": [
    "import os\n",
    "from datetime import datetime\n",
    "\n",
    "# Task Manager Application\n",
    "tasks = []\n",
    "\n",
    "def display_menu():\n",
    "    print(\"\\nTask Manager\")\n",
    "    print(\"1. Add Task\")\n",
    "    print(\"2. View Tasks\")\n",
    "    print(\"3. Mark Task as Completed\")\n",
    "    print(\"4. Delete Task\")\n",
    "    print(\"5. Exit\")\n",
    "\n",
    "def add_task():\n",
    "    title = input(\"Enter task title: \")\n",
    "    description = input(\"Enter task description: \")\n",
    "    due_date = input(\"Enter due date (YYYY-MM-DD): \")\n",
    "\n",
    "    task = {\n",
    "        \"title\": title,\n",
    "        \"description\": description,\n",
    "        \"due_date\": due_date,\n",
    "        \"created_at\": datetime.now().strftime(\"%Y-%m-%d %H:%M:%S\"),\n",
    "        \"completed\": False\n",
    "    }\n",
    "    tasks.append(task)\n",
    "    print(\"Task added successfully!\")\n",
    "\n",
    "def view_tasks():\n",
    "    if not tasks:\n",
    "        print(\"No tasks available.\")\n",
    "        return\n",
    "\n",
    "    print(\"\\nTasks:\")\n",
    "    for i, task in enumerate(tasks):\n",
    "        status = \"Completed\" if task[\"completed\"] else \"Pending\"\n",
    "        print(f\"{i + 1}. {task['title']} ({status})\")\n",
    "        print(f\"   Description: {task['description']}\")\n",
    "        print(f\"   Due Date: {task['due_date']}\")\n",
    "        print(f\"   Created At: {task['created_at']}\\n\")\n",
    "\n",
    "def mark_task_completed():\n",
    "    view_tasks()\n",
    "    try:\n",
    "        task_num = int(input(\"Enter task number to mark as completed: \"))\n",
    "        if 1 <= task_num <= len(tasks):\n",
    "            tasks[task_num - 1][\"completed\"] = True\n",
    "            print(\"Task marked as completed.\")\n",
    "        else:\n",
    "            print(\"Invalid task number.\")\n",
    "    except ValueError:\n",
    "        print(\"Please enter a valid number.\")\n",
    "\n",
    "def delete_task():\n",
    "    view_tasks()\n",
    "    try:\n",
    "        task_num = int(input(\"Enter task number to delete: \"))\n",
    "        if 1 <= task_num <= len(tasks):\n",
    "            tasks.pop(task_num - 1)\n",
    "            print(\"Task deleted successfully.\")\n",
    "        else:\n",
    "            print(\"Invalid task number.\")\n",
    "    except ValueError:\n",
    "        print(\"Please enter a valid number.\")\n",
    "\n",
    "def main():\n",
    "    while True:\n",
    "        display_menu()\n",
    "        choice = input(\"\\nEnter your choice: \")\n",
    "\n",
    "        if choice == \"1\":\n",
    "            add_task()\n",
    "        elif choice == \"2\":\n",
    "            view_tasks()\n",
    "        elif choice == \"3\":\n",
    "            mark_task_completed()\n",
    "        elif choice == \"4\":\n",
    "            delete_task()\n",
    "        elif choice == \"5\":\n",
    "            print(\"Exiting Task Manager. Goodbye!\")\n",
    "            break\n",
    "        else:\n",
    "            print(\"Invalid choice. Please try again.\")\n",
    "\n",
    "if __name__ == \"__main__\":\n",
    "    main()\n"
   ]
  },
  {
   "cell_type": "code",
   "execution_count": null,
   "id": "a37d82d3-fd78-4005-bdc3-7714d0000dac",
   "metadata": {},
   "outputs": [],
   "source": []
  }
 ],
 "metadata": {
  "kernelspec": {
   "display_name": "Python 3 (ipykernel)",
   "language": "python",
   "name": "python3"
  },
  "language_info": {
   "codemirror_mode": {
    "name": "ipython",
    "version": 3
   },
   "file_extension": ".py",
   "mimetype": "text/x-python",
   "name": "python",
   "nbconvert_exporter": "python",
   "pygments_lexer": "ipython3",
   "version": "3.12.7"
  }
 },
 "nbformat": 4,
 "nbformat_minor": 5
}
